{
  "nbformat": 4,
  "nbformat_minor": 0,
  "metadata": {
    "colab": {
      "provenance": [],
      "gpuType": "T4",
      "authorship_tag": "ABX9TyMZiuMEjSVO9ZHqkF211NWC"
    },
    "kernelspec": {
      "name": "python3",
      "display_name": "Python 3"
    },
    "language_info": {
      "name": "python"
    },
    "accelerator": "GPU"
  },
  "cells": [
    {
      "cell_type": "code",
      "source": [
        "!mkdir -p ~/.kaggle\n",
        "!cp kaggle.json ~/.kaggle/\n",
        "!chmod 600 ~/.kaggle/kaggle.json"
      ],
      "metadata": {
        "id": "vTncQ8NB_bB7"
      },
      "execution_count": 1,
      "outputs": []
    },
    {
      "cell_type": "code",
      "execution_count": 2,
      "metadata": {
        "colab": {
          "base_uri": "https://localhost:8080/"
        },
        "id": "_jTU8tv7_XOo",
        "outputId": "bb1c3343-e514-477a-f952-248f275be152"
      },
      "outputs": [
        {
          "output_type": "stream",
          "name": "stdout",
          "text": [
            "Downloading ai-vs-human-text.zip to /content\n",
            "100% 349M/350M [00:06<00:00, 91.4MB/s]\n",
            "100% 350M/350M [00:06<00:00, 60.7MB/s]\n"
          ]
        }
      ],
      "source": [
        "!kaggle datasets download -d shanegerami/ai-vs-human-text"
      ]
    },
    {
      "cell_type": "code",
      "source": [
        "from zipfile import ZipFile\n",
        "dataset = '/content/ai-vs-human-text.zip'\n",
        "\n",
        "with ZipFile(dataset,'r') as zip:\n",
        "  zip.extractall()\n",
        "  print('Extracted')"
      ],
      "metadata": {
        "colab": {
          "base_uri": "https://localhost:8080/"
        },
        "id": "5-awTOEu_dun",
        "outputId": "4dcc629b-e693-4b8a-c100-72ac8a0be496"
      },
      "execution_count": 3,
      "outputs": [
        {
          "output_type": "stream",
          "name": "stdout",
          "text": [
            "Extracted\n"
          ]
        }
      ]
    },
    {
      "cell_type": "markdown",
      "source": [
        "Reading csv file"
      ],
      "metadata": {
        "id": "367vSBHV7dw_"
      }
    },
    {
      "cell_type": "code",
      "source": [
        "import pandas as pd"
      ],
      "metadata": {
        "id": "rGwn9uSs_vx2"
      },
      "execution_count": 4,
      "outputs": []
    },
    {
      "cell_type": "code",
      "source": [
        "import numpy as np"
      ],
      "metadata": {
        "id": "LtWY0KVo_3k2"
      },
      "execution_count": 61,
      "outputs": []
    },
    {
      "cell_type": "code",
      "source": [
        "table=pd.read_csv('AI_Human.csv')"
      ],
      "metadata": {
        "id": "Cl-db9cP_7h0"
      },
      "execution_count": 5,
      "outputs": []
    },
    {
      "cell_type": "code",
      "source": [
        "table.head()"
      ],
      "metadata": {
        "colab": {
          "base_uri": "https://localhost:8080/",
          "height": 206
        },
        "id": "abY4VhyCAAks",
        "outputId": "a16753ab-0dc0-4af7-e992-69591702014a"
      },
      "execution_count": 6,
      "outputs": [
        {
          "output_type": "execute_result",
          "data": {
            "text/plain": [
              "                                                text  generated\n",
              "0  Cars. Cars have been around since they became ...        0.0\n",
              "1  Transportation is a large necessity in most co...        0.0\n",
              "2  \"America's love affair with it's vehicles seem...        0.0\n",
              "3  How often do you ride in a car? Do you drive a...        0.0\n",
              "4  Cars are a wonderful thing. They are perhaps o...        0.0"
            ],
            "text/html": [
              "\n",
              "  <div id=\"df-3c11ed2d-2336-4d04-8a54-6e5a3a3cfe7b\" class=\"colab-df-container\">\n",
              "    <div>\n",
              "<style scoped>\n",
              "    .dataframe tbody tr th:only-of-type {\n",
              "        vertical-align: middle;\n",
              "    }\n",
              "\n",
              "    .dataframe tbody tr th {\n",
              "        vertical-align: top;\n",
              "    }\n",
              "\n",
              "    .dataframe thead th {\n",
              "        text-align: right;\n",
              "    }\n",
              "</style>\n",
              "<table border=\"1\" class=\"dataframe\">\n",
              "  <thead>\n",
              "    <tr style=\"text-align: right;\">\n",
              "      <th></th>\n",
              "      <th>text</th>\n",
              "      <th>generated</th>\n",
              "    </tr>\n",
              "  </thead>\n",
              "  <tbody>\n",
              "    <tr>\n",
              "      <th>0</th>\n",
              "      <td>Cars. Cars have been around since they became ...</td>\n",
              "      <td>0.0</td>\n",
              "    </tr>\n",
              "    <tr>\n",
              "      <th>1</th>\n",
              "      <td>Transportation is a large necessity in most co...</td>\n",
              "      <td>0.0</td>\n",
              "    </tr>\n",
              "    <tr>\n",
              "      <th>2</th>\n",
              "      <td>\"America's love affair with it's vehicles seem...</td>\n",
              "      <td>0.0</td>\n",
              "    </tr>\n",
              "    <tr>\n",
              "      <th>3</th>\n",
              "      <td>How often do you ride in a car? Do you drive a...</td>\n",
              "      <td>0.0</td>\n",
              "    </tr>\n",
              "    <tr>\n",
              "      <th>4</th>\n",
              "      <td>Cars are a wonderful thing. They are perhaps o...</td>\n",
              "      <td>0.0</td>\n",
              "    </tr>\n",
              "  </tbody>\n",
              "</table>\n",
              "</div>\n",
              "    <div class=\"colab-df-buttons\">\n",
              "\n",
              "  <div class=\"colab-df-container\">\n",
              "    <button class=\"colab-df-convert\" onclick=\"convertToInteractive('df-3c11ed2d-2336-4d04-8a54-6e5a3a3cfe7b')\"\n",
              "            title=\"Convert this dataframe to an interactive table.\"\n",
              "            style=\"display:none;\">\n",
              "\n",
              "  <svg xmlns=\"http://www.w3.org/2000/svg\" height=\"24px\" viewBox=\"0 -960 960 960\">\n",
              "    <path d=\"M120-120v-720h720v720H120Zm60-500h600v-160H180v160Zm220 220h160v-160H400v160Zm0 220h160v-160H400v160ZM180-400h160v-160H180v160Zm440 0h160v-160H620v160ZM180-180h160v-160H180v160Zm440 0h160v-160H620v160Z\"/>\n",
              "  </svg>\n",
              "    </button>\n",
              "\n",
              "  <style>\n",
              "    .colab-df-container {\n",
              "      display:flex;\n",
              "      gap: 12px;\n",
              "    }\n",
              "\n",
              "    .colab-df-convert {\n",
              "      background-color: #E8F0FE;\n",
              "      border: none;\n",
              "      border-radius: 50%;\n",
              "      cursor: pointer;\n",
              "      display: none;\n",
              "      fill: #1967D2;\n",
              "      height: 32px;\n",
              "      padding: 0 0 0 0;\n",
              "      width: 32px;\n",
              "    }\n",
              "\n",
              "    .colab-df-convert:hover {\n",
              "      background-color: #E2EBFA;\n",
              "      box-shadow: 0px 1px 2px rgba(60, 64, 67, 0.3), 0px 1px 3px 1px rgba(60, 64, 67, 0.15);\n",
              "      fill: #174EA6;\n",
              "    }\n",
              "\n",
              "    .colab-df-buttons div {\n",
              "      margin-bottom: 4px;\n",
              "    }\n",
              "\n",
              "    [theme=dark] .colab-df-convert {\n",
              "      background-color: #3B4455;\n",
              "      fill: #D2E3FC;\n",
              "    }\n",
              "\n",
              "    [theme=dark] .colab-df-convert:hover {\n",
              "      background-color: #434B5C;\n",
              "      box-shadow: 0px 1px 3px 1px rgba(0, 0, 0, 0.15);\n",
              "      filter: drop-shadow(0px 1px 2px rgba(0, 0, 0, 0.3));\n",
              "      fill: #FFFFFF;\n",
              "    }\n",
              "  </style>\n",
              "\n",
              "    <script>\n",
              "      const buttonEl =\n",
              "        document.querySelector('#df-3c11ed2d-2336-4d04-8a54-6e5a3a3cfe7b button.colab-df-convert');\n",
              "      buttonEl.style.display =\n",
              "        google.colab.kernel.accessAllowed ? 'block' : 'none';\n",
              "\n",
              "      async function convertToInteractive(key) {\n",
              "        const element = document.querySelector('#df-3c11ed2d-2336-4d04-8a54-6e5a3a3cfe7b');\n",
              "        const dataTable =\n",
              "          await google.colab.kernel.invokeFunction('convertToInteractive',\n",
              "                                                    [key], {});\n",
              "        if (!dataTable) return;\n",
              "\n",
              "        const docLinkHtml = 'Like what you see? Visit the ' +\n",
              "          '<a target=\"_blank\" href=https://colab.research.google.com/notebooks/data_table.ipynb>data table notebook</a>'\n",
              "          + ' to learn more about interactive tables.';\n",
              "        element.innerHTML = '';\n",
              "        dataTable['output_type'] = 'display_data';\n",
              "        await google.colab.output.renderOutput(dataTable, element);\n",
              "        const docLink = document.createElement('div');\n",
              "        docLink.innerHTML = docLinkHtml;\n",
              "        element.appendChild(docLink);\n",
              "      }\n",
              "    </script>\n",
              "  </div>\n",
              "\n",
              "\n",
              "<div id=\"df-3ab0541e-175a-4ca3-8f1f-19fae5e85a45\">\n",
              "  <button class=\"colab-df-quickchart\" onclick=\"quickchart('df-3ab0541e-175a-4ca3-8f1f-19fae5e85a45')\"\n",
              "            title=\"Suggest charts\"\n",
              "            style=\"display:none;\">\n",
              "\n",
              "<svg xmlns=\"http://www.w3.org/2000/svg\" height=\"24px\"viewBox=\"0 0 24 24\"\n",
              "     width=\"24px\">\n",
              "    <g>\n",
              "        <path d=\"M19 3H5c-1.1 0-2 .9-2 2v14c0 1.1.9 2 2 2h14c1.1 0 2-.9 2-2V5c0-1.1-.9-2-2-2zM9 17H7v-7h2v7zm4 0h-2V7h2v10zm4 0h-2v-4h2v4z\"/>\n",
              "    </g>\n",
              "</svg>\n",
              "  </button>\n",
              "\n",
              "<style>\n",
              "  .colab-df-quickchart {\n",
              "      --bg-color: #E8F0FE;\n",
              "      --fill-color: #1967D2;\n",
              "      --hover-bg-color: #E2EBFA;\n",
              "      --hover-fill-color: #174EA6;\n",
              "      --disabled-fill-color: #AAA;\n",
              "      --disabled-bg-color: #DDD;\n",
              "  }\n",
              "\n",
              "  [theme=dark] .colab-df-quickchart {\n",
              "      --bg-color: #3B4455;\n",
              "      --fill-color: #D2E3FC;\n",
              "      --hover-bg-color: #434B5C;\n",
              "      --hover-fill-color: #FFFFFF;\n",
              "      --disabled-bg-color: #3B4455;\n",
              "      --disabled-fill-color: #666;\n",
              "  }\n",
              "\n",
              "  .colab-df-quickchart {\n",
              "    background-color: var(--bg-color);\n",
              "    border: none;\n",
              "    border-radius: 50%;\n",
              "    cursor: pointer;\n",
              "    display: none;\n",
              "    fill: var(--fill-color);\n",
              "    height: 32px;\n",
              "    padding: 0;\n",
              "    width: 32px;\n",
              "  }\n",
              "\n",
              "  .colab-df-quickchart:hover {\n",
              "    background-color: var(--hover-bg-color);\n",
              "    box-shadow: 0 1px 2px rgba(60, 64, 67, 0.3), 0 1px 3px 1px rgba(60, 64, 67, 0.15);\n",
              "    fill: var(--button-hover-fill-color);\n",
              "  }\n",
              "\n",
              "  .colab-df-quickchart-complete:disabled,\n",
              "  .colab-df-quickchart-complete:disabled:hover {\n",
              "    background-color: var(--disabled-bg-color);\n",
              "    fill: var(--disabled-fill-color);\n",
              "    box-shadow: none;\n",
              "  }\n",
              "\n",
              "  .colab-df-spinner {\n",
              "    border: 2px solid var(--fill-color);\n",
              "    border-color: transparent;\n",
              "    border-bottom-color: var(--fill-color);\n",
              "    animation:\n",
              "      spin 1s steps(1) infinite;\n",
              "  }\n",
              "\n",
              "  @keyframes spin {\n",
              "    0% {\n",
              "      border-color: transparent;\n",
              "      border-bottom-color: var(--fill-color);\n",
              "      border-left-color: var(--fill-color);\n",
              "    }\n",
              "    20% {\n",
              "      border-color: transparent;\n",
              "      border-left-color: var(--fill-color);\n",
              "      border-top-color: var(--fill-color);\n",
              "    }\n",
              "    30% {\n",
              "      border-color: transparent;\n",
              "      border-left-color: var(--fill-color);\n",
              "      border-top-color: var(--fill-color);\n",
              "      border-right-color: var(--fill-color);\n",
              "    }\n",
              "    40% {\n",
              "      border-color: transparent;\n",
              "      border-right-color: var(--fill-color);\n",
              "      border-top-color: var(--fill-color);\n",
              "    }\n",
              "    60% {\n",
              "      border-color: transparent;\n",
              "      border-right-color: var(--fill-color);\n",
              "    }\n",
              "    80% {\n",
              "      border-color: transparent;\n",
              "      border-right-color: var(--fill-color);\n",
              "      border-bottom-color: var(--fill-color);\n",
              "    }\n",
              "    90% {\n",
              "      border-color: transparent;\n",
              "      border-bottom-color: var(--fill-color);\n",
              "    }\n",
              "  }\n",
              "</style>\n",
              "\n",
              "  <script>\n",
              "    async function quickchart(key) {\n",
              "      const quickchartButtonEl =\n",
              "        document.querySelector('#' + key + ' button');\n",
              "      quickchartButtonEl.disabled = true;  // To prevent multiple clicks.\n",
              "      quickchartButtonEl.classList.add('colab-df-spinner');\n",
              "      try {\n",
              "        const charts = await google.colab.kernel.invokeFunction(\n",
              "            'suggestCharts', [key], {});\n",
              "      } catch (error) {\n",
              "        console.error('Error during call to suggestCharts:', error);\n",
              "      }\n",
              "      quickchartButtonEl.classList.remove('colab-df-spinner');\n",
              "      quickchartButtonEl.classList.add('colab-df-quickchart-complete');\n",
              "    }\n",
              "    (() => {\n",
              "      let quickchartButtonEl =\n",
              "        document.querySelector('#df-3ab0541e-175a-4ca3-8f1f-19fae5e85a45 button');\n",
              "      quickchartButtonEl.style.display =\n",
              "        google.colab.kernel.accessAllowed ? 'block' : 'none';\n",
              "    })();\n",
              "  </script>\n",
              "</div>\n",
              "\n",
              "    </div>\n",
              "  </div>\n"
            ],
            "application/vnd.google.colaboratory.intrinsic+json": {
              "type": "dataframe",
              "variable_name": "table"
            }
          },
          "metadata": {},
          "execution_count": 6
        }
      ]
    },
    {
      "cell_type": "code",
      "source": [
        "table['generated']=table['generated'].apply(int)"
      ],
      "metadata": {
        "id": "Aep4V5vkAWG8"
      },
      "execution_count": 7,
      "outputs": []
    },
    {
      "cell_type": "code",
      "source": [
        "table.head()"
      ],
      "metadata": {
        "colab": {
          "base_uri": "https://localhost:8080/",
          "height": 206
        },
        "id": "k2EkXtEvAOpT",
        "outputId": "0f447cc0-9be7-492c-c5f6-96e09f66e7a6"
      },
      "execution_count": 9,
      "outputs": [
        {
          "output_type": "execute_result",
          "data": {
            "text/plain": [
              "                                                text  generated\n",
              "0  Cars. Cars have been around since they became ...          0\n",
              "1  Transportation is a large necessity in most co...          0\n",
              "2  \"America's love affair with it's vehicles seem...          0\n",
              "3  How often do you ride in a car? Do you drive a...          0\n",
              "4  Cars are a wonderful thing. They are perhaps o...          0"
            ],
            "text/html": [
              "\n",
              "  <div id=\"df-dfe3c396-3745-4a6e-8fab-409fb03a1b8f\" class=\"colab-df-container\">\n",
              "    <div>\n",
              "<style scoped>\n",
              "    .dataframe tbody tr th:only-of-type {\n",
              "        vertical-align: middle;\n",
              "    }\n",
              "\n",
              "    .dataframe tbody tr th {\n",
              "        vertical-align: top;\n",
              "    }\n",
              "\n",
              "    .dataframe thead th {\n",
              "        text-align: right;\n",
              "    }\n",
              "</style>\n",
              "<table border=\"1\" class=\"dataframe\">\n",
              "  <thead>\n",
              "    <tr style=\"text-align: right;\">\n",
              "      <th></th>\n",
              "      <th>text</th>\n",
              "      <th>generated</th>\n",
              "    </tr>\n",
              "  </thead>\n",
              "  <tbody>\n",
              "    <tr>\n",
              "      <th>0</th>\n",
              "      <td>Cars. Cars have been around since they became ...</td>\n",
              "      <td>0</td>\n",
              "    </tr>\n",
              "    <tr>\n",
              "      <th>1</th>\n",
              "      <td>Transportation is a large necessity in most co...</td>\n",
              "      <td>0</td>\n",
              "    </tr>\n",
              "    <tr>\n",
              "      <th>2</th>\n",
              "      <td>\"America's love affair with it's vehicles seem...</td>\n",
              "      <td>0</td>\n",
              "    </tr>\n",
              "    <tr>\n",
              "      <th>3</th>\n",
              "      <td>How often do you ride in a car? Do you drive a...</td>\n",
              "      <td>0</td>\n",
              "    </tr>\n",
              "    <tr>\n",
              "      <th>4</th>\n",
              "      <td>Cars are a wonderful thing. They are perhaps o...</td>\n",
              "      <td>0</td>\n",
              "    </tr>\n",
              "  </tbody>\n",
              "</table>\n",
              "</div>\n",
              "    <div class=\"colab-df-buttons\">\n",
              "\n",
              "  <div class=\"colab-df-container\">\n",
              "    <button class=\"colab-df-convert\" onclick=\"convertToInteractive('df-dfe3c396-3745-4a6e-8fab-409fb03a1b8f')\"\n",
              "            title=\"Convert this dataframe to an interactive table.\"\n",
              "            style=\"display:none;\">\n",
              "\n",
              "  <svg xmlns=\"http://www.w3.org/2000/svg\" height=\"24px\" viewBox=\"0 -960 960 960\">\n",
              "    <path d=\"M120-120v-720h720v720H120Zm60-500h600v-160H180v160Zm220 220h160v-160H400v160Zm0 220h160v-160H400v160ZM180-400h160v-160H180v160Zm440 0h160v-160H620v160ZM180-180h160v-160H180v160Zm440 0h160v-160H620v160Z\"/>\n",
              "  </svg>\n",
              "    </button>\n",
              "\n",
              "  <style>\n",
              "    .colab-df-container {\n",
              "      display:flex;\n",
              "      gap: 12px;\n",
              "    }\n",
              "\n",
              "    .colab-df-convert {\n",
              "      background-color: #E8F0FE;\n",
              "      border: none;\n",
              "      border-radius: 50%;\n",
              "      cursor: pointer;\n",
              "      display: none;\n",
              "      fill: #1967D2;\n",
              "      height: 32px;\n",
              "      padding: 0 0 0 0;\n",
              "      width: 32px;\n",
              "    }\n",
              "\n",
              "    .colab-df-convert:hover {\n",
              "      background-color: #E2EBFA;\n",
              "      box-shadow: 0px 1px 2px rgba(60, 64, 67, 0.3), 0px 1px 3px 1px rgba(60, 64, 67, 0.15);\n",
              "      fill: #174EA6;\n",
              "    }\n",
              "\n",
              "    .colab-df-buttons div {\n",
              "      margin-bottom: 4px;\n",
              "    }\n",
              "\n",
              "    [theme=dark] .colab-df-convert {\n",
              "      background-color: #3B4455;\n",
              "      fill: #D2E3FC;\n",
              "    }\n",
              "\n",
              "    [theme=dark] .colab-df-convert:hover {\n",
              "      background-color: #434B5C;\n",
              "      box-shadow: 0px 1px 3px 1px rgba(0, 0, 0, 0.15);\n",
              "      filter: drop-shadow(0px 1px 2px rgba(0, 0, 0, 0.3));\n",
              "      fill: #FFFFFF;\n",
              "    }\n",
              "  </style>\n",
              "\n",
              "    <script>\n",
              "      const buttonEl =\n",
              "        document.querySelector('#df-dfe3c396-3745-4a6e-8fab-409fb03a1b8f button.colab-df-convert');\n",
              "      buttonEl.style.display =\n",
              "        google.colab.kernel.accessAllowed ? 'block' : 'none';\n",
              "\n",
              "      async function convertToInteractive(key) {\n",
              "        const element = document.querySelector('#df-dfe3c396-3745-4a6e-8fab-409fb03a1b8f');\n",
              "        const dataTable =\n",
              "          await google.colab.kernel.invokeFunction('convertToInteractive',\n",
              "                                                    [key], {});\n",
              "        if (!dataTable) return;\n",
              "\n",
              "        const docLinkHtml = 'Like what you see? Visit the ' +\n",
              "          '<a target=\"_blank\" href=https://colab.research.google.com/notebooks/data_table.ipynb>data table notebook</a>'\n",
              "          + ' to learn more about interactive tables.';\n",
              "        element.innerHTML = '';\n",
              "        dataTable['output_type'] = 'display_data';\n",
              "        await google.colab.output.renderOutput(dataTable, element);\n",
              "        const docLink = document.createElement('div');\n",
              "        docLink.innerHTML = docLinkHtml;\n",
              "        element.appendChild(docLink);\n",
              "      }\n",
              "    </script>\n",
              "  </div>\n",
              "\n",
              "\n",
              "<div id=\"df-7386a23b-ae55-4d7c-813e-494837553dac\">\n",
              "  <button class=\"colab-df-quickchart\" onclick=\"quickchart('df-7386a23b-ae55-4d7c-813e-494837553dac')\"\n",
              "            title=\"Suggest charts\"\n",
              "            style=\"display:none;\">\n",
              "\n",
              "<svg xmlns=\"http://www.w3.org/2000/svg\" height=\"24px\"viewBox=\"0 0 24 24\"\n",
              "     width=\"24px\">\n",
              "    <g>\n",
              "        <path d=\"M19 3H5c-1.1 0-2 .9-2 2v14c0 1.1.9 2 2 2h14c1.1 0 2-.9 2-2V5c0-1.1-.9-2-2-2zM9 17H7v-7h2v7zm4 0h-2V7h2v10zm4 0h-2v-4h2v4z\"/>\n",
              "    </g>\n",
              "</svg>\n",
              "  </button>\n",
              "\n",
              "<style>\n",
              "  .colab-df-quickchart {\n",
              "      --bg-color: #E8F0FE;\n",
              "      --fill-color: #1967D2;\n",
              "      --hover-bg-color: #E2EBFA;\n",
              "      --hover-fill-color: #174EA6;\n",
              "      --disabled-fill-color: #AAA;\n",
              "      --disabled-bg-color: #DDD;\n",
              "  }\n",
              "\n",
              "  [theme=dark] .colab-df-quickchart {\n",
              "      --bg-color: #3B4455;\n",
              "      --fill-color: #D2E3FC;\n",
              "      --hover-bg-color: #434B5C;\n",
              "      --hover-fill-color: #FFFFFF;\n",
              "      --disabled-bg-color: #3B4455;\n",
              "      --disabled-fill-color: #666;\n",
              "  }\n",
              "\n",
              "  .colab-df-quickchart {\n",
              "    background-color: var(--bg-color);\n",
              "    border: none;\n",
              "    border-radius: 50%;\n",
              "    cursor: pointer;\n",
              "    display: none;\n",
              "    fill: var(--fill-color);\n",
              "    height: 32px;\n",
              "    padding: 0;\n",
              "    width: 32px;\n",
              "  }\n",
              "\n",
              "  .colab-df-quickchart:hover {\n",
              "    background-color: var(--hover-bg-color);\n",
              "    box-shadow: 0 1px 2px rgba(60, 64, 67, 0.3), 0 1px 3px 1px rgba(60, 64, 67, 0.15);\n",
              "    fill: var(--button-hover-fill-color);\n",
              "  }\n",
              "\n",
              "  .colab-df-quickchart-complete:disabled,\n",
              "  .colab-df-quickchart-complete:disabled:hover {\n",
              "    background-color: var(--disabled-bg-color);\n",
              "    fill: var(--disabled-fill-color);\n",
              "    box-shadow: none;\n",
              "  }\n",
              "\n",
              "  .colab-df-spinner {\n",
              "    border: 2px solid var(--fill-color);\n",
              "    border-color: transparent;\n",
              "    border-bottom-color: var(--fill-color);\n",
              "    animation:\n",
              "      spin 1s steps(1) infinite;\n",
              "  }\n",
              "\n",
              "  @keyframes spin {\n",
              "    0% {\n",
              "      border-color: transparent;\n",
              "      border-bottom-color: var(--fill-color);\n",
              "      border-left-color: var(--fill-color);\n",
              "    }\n",
              "    20% {\n",
              "      border-color: transparent;\n",
              "      border-left-color: var(--fill-color);\n",
              "      border-top-color: var(--fill-color);\n",
              "    }\n",
              "    30% {\n",
              "      border-color: transparent;\n",
              "      border-left-color: var(--fill-color);\n",
              "      border-top-color: var(--fill-color);\n",
              "      border-right-color: var(--fill-color);\n",
              "    }\n",
              "    40% {\n",
              "      border-color: transparent;\n",
              "      border-right-color: var(--fill-color);\n",
              "      border-top-color: var(--fill-color);\n",
              "    }\n",
              "    60% {\n",
              "      border-color: transparent;\n",
              "      border-right-color: var(--fill-color);\n",
              "    }\n",
              "    80% {\n",
              "      border-color: transparent;\n",
              "      border-right-color: var(--fill-color);\n",
              "      border-bottom-color: var(--fill-color);\n",
              "    }\n",
              "    90% {\n",
              "      border-color: transparent;\n",
              "      border-bottom-color: var(--fill-color);\n",
              "    }\n",
              "  }\n",
              "</style>\n",
              "\n",
              "  <script>\n",
              "    async function quickchart(key) {\n",
              "      const quickchartButtonEl =\n",
              "        document.querySelector('#' + key + ' button');\n",
              "      quickchartButtonEl.disabled = true;  // To prevent multiple clicks.\n",
              "      quickchartButtonEl.classList.add('colab-df-spinner');\n",
              "      try {\n",
              "        const charts = await google.colab.kernel.invokeFunction(\n",
              "            'suggestCharts', [key], {});\n",
              "      } catch (error) {\n",
              "        console.error('Error during call to suggestCharts:', error);\n",
              "      }\n",
              "      quickchartButtonEl.classList.remove('colab-df-spinner');\n",
              "      quickchartButtonEl.classList.add('colab-df-quickchart-complete');\n",
              "    }\n",
              "    (() => {\n",
              "      let quickchartButtonEl =\n",
              "        document.querySelector('#df-7386a23b-ae55-4d7c-813e-494837553dac button');\n",
              "      quickchartButtonEl.style.display =\n",
              "        google.colab.kernel.accessAllowed ? 'block' : 'none';\n",
              "    })();\n",
              "  </script>\n",
              "</div>\n",
              "\n",
              "    </div>\n",
              "  </div>\n"
            ],
            "application/vnd.google.colaboratory.intrinsic+json": {
              "type": "dataframe",
              "variable_name": "table"
            }
          },
          "metadata": {},
          "execution_count": 9
        }
      ]
    },
    {
      "cell_type": "code",
      "source": [
        "len(table)"
      ],
      "metadata": {
        "colab": {
          "base_uri": "https://localhost:8080/"
        },
        "id": "nQjWhHiiBvAC",
        "outputId": "d6ff9343-1b17-4d41-cbd7-01fa67abdf40"
      },
      "execution_count": 10,
      "outputs": [
        {
          "output_type": "execute_result",
          "data": {
            "text/plain": [
              "487235"
            ]
          },
          "metadata": {},
          "execution_count": 10
        }
      ]
    },
    {
      "cell_type": "code",
      "source": [
        "max([len(i.split()) for i in table['text']])"
      ],
      "metadata": {
        "colab": {
          "base_uri": "https://localhost:8080/"
        },
        "id": "VjLkzly1B_--",
        "outputId": "4eb313de-a572-4fa5-be70-5da0692d7831"
      },
      "execution_count": 14,
      "outputs": [
        {
          "output_type": "execute_result",
          "data": {
            "text/plain": [
              "1656"
            ]
          },
          "metadata": {},
          "execution_count": 14
        }
      ]
    },
    {
      "cell_type": "code",
      "source": [
        "import string\n",
        "import nltk\n",
        "from nltk.stem import PorterStemmer\n",
        "nltk.download('punkt')"
      ],
      "metadata": {
        "colab": {
          "base_uri": "https://localhost:8080/"
        },
        "id": "-I__NeZfCsDR",
        "outputId": "dc2cbc3f-291d-480d-bc09-7474d0dc2367"
      },
      "execution_count": 15,
      "outputs": [
        {
          "output_type": "stream",
          "name": "stderr",
          "text": [
            "[nltk_data] Downloading package punkt to /root/nltk_data...\n",
            "[nltk_data]   Unzipping tokenizers/punkt.zip.\n"
          ]
        },
        {
          "output_type": "execute_result",
          "data": {
            "text/plain": [
              "True"
            ]
          },
          "metadata": {},
          "execution_count": 15
        }
      ]
    },
    {
      "cell_type": "code",
      "source": [
        "ps=PorterStemmer()"
      ],
      "metadata": {
        "id": "8CL-F8q9DZaS"
      },
      "execution_count": 16,
      "outputs": []
    },
    {
      "cell_type": "code",
      "source": [
        "def punc_rem(text):\n",
        "  for i in string.punctuation:\n",
        "    text=text.replace(i,'')\n",
        "  return text\n",
        "def stemmer(text):\n",
        "  new_text=[]\n",
        "  for word in text.split():\n",
        "    word=ps.stem(word)\n",
        "    new_text.append(word)\n",
        "  return \" \".join(new_text)"
      ],
      "metadata": {
        "id": "jm_UNBJaC4mM"
      },
      "execution_count": 17,
      "outputs": []
    },
    {
      "cell_type": "markdown",
      "source": [
        "Lowercasing, removing punctuation mark and stemming in all the text in the table"
      ],
      "metadata": {
        "id": "FH8SqT4b8BiU"
      }
    },
    {
      "cell_type": "code",
      "source": [
        "table['text']=table['text'].apply(lambda x:x.lower())\n",
        "table['text']=table['text'].apply(punc_rem)\n",
        "table['text']=table['text'].apply(stemmer)"
      ],
      "metadata": {
        "id": "1Znqzar9CEMo"
      },
      "execution_count": 18,
      "outputs": []
    },
    {
      "cell_type": "code",
      "source": [
        "table.head()"
      ],
      "metadata": {
        "colab": {
          "base_uri": "https://localhost:8080/",
          "height": 206
        },
        "id": "cLbRLCcAECzy",
        "outputId": "42a6f342-7e0c-404f-9e9f-f130f03c2156"
      },
      "execution_count": 19,
      "outputs": [
        {
          "output_type": "execute_result",
          "data": {
            "text/plain": [
              "                                                text  generated\n",
              "0  car car have been around sinc they becam famou...          0\n",
              "1  transport is a larg necess in most countri wor...          0\n",
              "2  america love affair with it vehicl seem to be ...          0\n",
              "3  how often do you ride in a car do you drive a ...          0\n",
              "4  car are a wonder thing they are perhap one of ...          0"
            ],
            "text/html": [
              "\n",
              "  <div id=\"df-e6830785-bca7-414a-89b3-d22dfc49cd05\" class=\"colab-df-container\">\n",
              "    <div>\n",
              "<style scoped>\n",
              "    .dataframe tbody tr th:only-of-type {\n",
              "        vertical-align: middle;\n",
              "    }\n",
              "\n",
              "    .dataframe tbody tr th {\n",
              "        vertical-align: top;\n",
              "    }\n",
              "\n",
              "    .dataframe thead th {\n",
              "        text-align: right;\n",
              "    }\n",
              "</style>\n",
              "<table border=\"1\" class=\"dataframe\">\n",
              "  <thead>\n",
              "    <tr style=\"text-align: right;\">\n",
              "      <th></th>\n",
              "      <th>text</th>\n",
              "      <th>generated</th>\n",
              "    </tr>\n",
              "  </thead>\n",
              "  <tbody>\n",
              "    <tr>\n",
              "      <th>0</th>\n",
              "      <td>car car have been around sinc they becam famou...</td>\n",
              "      <td>0</td>\n",
              "    </tr>\n",
              "    <tr>\n",
              "      <th>1</th>\n",
              "      <td>transport is a larg necess in most countri wor...</td>\n",
              "      <td>0</td>\n",
              "    </tr>\n",
              "    <tr>\n",
              "      <th>2</th>\n",
              "      <td>america love affair with it vehicl seem to be ...</td>\n",
              "      <td>0</td>\n",
              "    </tr>\n",
              "    <tr>\n",
              "      <th>3</th>\n",
              "      <td>how often do you ride in a car do you drive a ...</td>\n",
              "      <td>0</td>\n",
              "    </tr>\n",
              "    <tr>\n",
              "      <th>4</th>\n",
              "      <td>car are a wonder thing they are perhap one of ...</td>\n",
              "      <td>0</td>\n",
              "    </tr>\n",
              "  </tbody>\n",
              "</table>\n",
              "</div>\n",
              "    <div class=\"colab-df-buttons\">\n",
              "\n",
              "  <div class=\"colab-df-container\">\n",
              "    <button class=\"colab-df-convert\" onclick=\"convertToInteractive('df-e6830785-bca7-414a-89b3-d22dfc49cd05')\"\n",
              "            title=\"Convert this dataframe to an interactive table.\"\n",
              "            style=\"display:none;\">\n",
              "\n",
              "  <svg xmlns=\"http://www.w3.org/2000/svg\" height=\"24px\" viewBox=\"0 -960 960 960\">\n",
              "    <path d=\"M120-120v-720h720v720H120Zm60-500h600v-160H180v160Zm220 220h160v-160H400v160Zm0 220h160v-160H400v160ZM180-400h160v-160H180v160Zm440 0h160v-160H620v160ZM180-180h160v-160H180v160Zm440 0h160v-160H620v160Z\"/>\n",
              "  </svg>\n",
              "    </button>\n",
              "\n",
              "  <style>\n",
              "    .colab-df-container {\n",
              "      display:flex;\n",
              "      gap: 12px;\n",
              "    }\n",
              "\n",
              "    .colab-df-convert {\n",
              "      background-color: #E8F0FE;\n",
              "      border: none;\n",
              "      border-radius: 50%;\n",
              "      cursor: pointer;\n",
              "      display: none;\n",
              "      fill: #1967D2;\n",
              "      height: 32px;\n",
              "      padding: 0 0 0 0;\n",
              "      width: 32px;\n",
              "    }\n",
              "\n",
              "    .colab-df-convert:hover {\n",
              "      background-color: #E2EBFA;\n",
              "      box-shadow: 0px 1px 2px rgba(60, 64, 67, 0.3), 0px 1px 3px 1px rgba(60, 64, 67, 0.15);\n",
              "      fill: #174EA6;\n",
              "    }\n",
              "\n",
              "    .colab-df-buttons div {\n",
              "      margin-bottom: 4px;\n",
              "    }\n",
              "\n",
              "    [theme=dark] .colab-df-convert {\n",
              "      background-color: #3B4455;\n",
              "      fill: #D2E3FC;\n",
              "    }\n",
              "\n",
              "    [theme=dark] .colab-df-convert:hover {\n",
              "      background-color: #434B5C;\n",
              "      box-shadow: 0px 1px 3px 1px rgba(0, 0, 0, 0.15);\n",
              "      filter: drop-shadow(0px 1px 2px rgba(0, 0, 0, 0.3));\n",
              "      fill: #FFFFFF;\n",
              "    }\n",
              "  </style>\n",
              "\n",
              "    <script>\n",
              "      const buttonEl =\n",
              "        document.querySelector('#df-e6830785-bca7-414a-89b3-d22dfc49cd05 button.colab-df-convert');\n",
              "      buttonEl.style.display =\n",
              "        google.colab.kernel.accessAllowed ? 'block' : 'none';\n",
              "\n",
              "      async function convertToInteractive(key) {\n",
              "        const element = document.querySelector('#df-e6830785-bca7-414a-89b3-d22dfc49cd05');\n",
              "        const dataTable =\n",
              "          await google.colab.kernel.invokeFunction('convertToInteractive',\n",
              "                                                    [key], {});\n",
              "        if (!dataTable) return;\n",
              "\n",
              "        const docLinkHtml = 'Like what you see? Visit the ' +\n",
              "          '<a target=\"_blank\" href=https://colab.research.google.com/notebooks/data_table.ipynb>data table notebook</a>'\n",
              "          + ' to learn more about interactive tables.';\n",
              "        element.innerHTML = '';\n",
              "        dataTable['output_type'] = 'display_data';\n",
              "        await google.colab.output.renderOutput(dataTable, element);\n",
              "        const docLink = document.createElement('div');\n",
              "        docLink.innerHTML = docLinkHtml;\n",
              "        element.appendChild(docLink);\n",
              "      }\n",
              "    </script>\n",
              "  </div>\n",
              "\n",
              "\n",
              "<div id=\"df-ca30ef4e-1451-4e9c-8f77-55d06db1ee23\">\n",
              "  <button class=\"colab-df-quickchart\" onclick=\"quickchart('df-ca30ef4e-1451-4e9c-8f77-55d06db1ee23')\"\n",
              "            title=\"Suggest charts\"\n",
              "            style=\"display:none;\">\n",
              "\n",
              "<svg xmlns=\"http://www.w3.org/2000/svg\" height=\"24px\"viewBox=\"0 0 24 24\"\n",
              "     width=\"24px\">\n",
              "    <g>\n",
              "        <path d=\"M19 3H5c-1.1 0-2 .9-2 2v14c0 1.1.9 2 2 2h14c1.1 0 2-.9 2-2V5c0-1.1-.9-2-2-2zM9 17H7v-7h2v7zm4 0h-2V7h2v10zm4 0h-2v-4h2v4z\"/>\n",
              "    </g>\n",
              "</svg>\n",
              "  </button>\n",
              "\n",
              "<style>\n",
              "  .colab-df-quickchart {\n",
              "      --bg-color: #E8F0FE;\n",
              "      --fill-color: #1967D2;\n",
              "      --hover-bg-color: #E2EBFA;\n",
              "      --hover-fill-color: #174EA6;\n",
              "      --disabled-fill-color: #AAA;\n",
              "      --disabled-bg-color: #DDD;\n",
              "  }\n",
              "\n",
              "  [theme=dark] .colab-df-quickchart {\n",
              "      --bg-color: #3B4455;\n",
              "      --fill-color: #D2E3FC;\n",
              "      --hover-bg-color: #434B5C;\n",
              "      --hover-fill-color: #FFFFFF;\n",
              "      --disabled-bg-color: #3B4455;\n",
              "      --disabled-fill-color: #666;\n",
              "  }\n",
              "\n",
              "  .colab-df-quickchart {\n",
              "    background-color: var(--bg-color);\n",
              "    border: none;\n",
              "    border-radius: 50%;\n",
              "    cursor: pointer;\n",
              "    display: none;\n",
              "    fill: var(--fill-color);\n",
              "    height: 32px;\n",
              "    padding: 0;\n",
              "    width: 32px;\n",
              "  }\n",
              "\n",
              "  .colab-df-quickchart:hover {\n",
              "    background-color: var(--hover-bg-color);\n",
              "    box-shadow: 0 1px 2px rgba(60, 64, 67, 0.3), 0 1px 3px 1px rgba(60, 64, 67, 0.15);\n",
              "    fill: var(--button-hover-fill-color);\n",
              "  }\n",
              "\n",
              "  .colab-df-quickchart-complete:disabled,\n",
              "  .colab-df-quickchart-complete:disabled:hover {\n",
              "    background-color: var(--disabled-bg-color);\n",
              "    fill: var(--disabled-fill-color);\n",
              "    box-shadow: none;\n",
              "  }\n",
              "\n",
              "  .colab-df-spinner {\n",
              "    border: 2px solid var(--fill-color);\n",
              "    border-color: transparent;\n",
              "    border-bottom-color: var(--fill-color);\n",
              "    animation:\n",
              "      spin 1s steps(1) infinite;\n",
              "  }\n",
              "\n",
              "  @keyframes spin {\n",
              "    0% {\n",
              "      border-color: transparent;\n",
              "      border-bottom-color: var(--fill-color);\n",
              "      border-left-color: var(--fill-color);\n",
              "    }\n",
              "    20% {\n",
              "      border-color: transparent;\n",
              "      border-left-color: var(--fill-color);\n",
              "      border-top-color: var(--fill-color);\n",
              "    }\n",
              "    30% {\n",
              "      border-color: transparent;\n",
              "      border-left-color: var(--fill-color);\n",
              "      border-top-color: var(--fill-color);\n",
              "      border-right-color: var(--fill-color);\n",
              "    }\n",
              "    40% {\n",
              "      border-color: transparent;\n",
              "      border-right-color: var(--fill-color);\n",
              "      border-top-color: var(--fill-color);\n",
              "    }\n",
              "    60% {\n",
              "      border-color: transparent;\n",
              "      border-right-color: var(--fill-color);\n",
              "    }\n",
              "    80% {\n",
              "      border-color: transparent;\n",
              "      border-right-color: var(--fill-color);\n",
              "      border-bottom-color: var(--fill-color);\n",
              "    }\n",
              "    90% {\n",
              "      border-color: transparent;\n",
              "      border-bottom-color: var(--fill-color);\n",
              "    }\n",
              "  }\n",
              "</style>\n",
              "\n",
              "  <script>\n",
              "    async function quickchart(key) {\n",
              "      const quickchartButtonEl =\n",
              "        document.querySelector('#' + key + ' button');\n",
              "      quickchartButtonEl.disabled = true;  // To prevent multiple clicks.\n",
              "      quickchartButtonEl.classList.add('colab-df-spinner');\n",
              "      try {\n",
              "        const charts = await google.colab.kernel.invokeFunction(\n",
              "            'suggestCharts', [key], {});\n",
              "      } catch (error) {\n",
              "        console.error('Error during call to suggestCharts:', error);\n",
              "      }\n",
              "      quickchartButtonEl.classList.remove('colab-df-spinner');\n",
              "      quickchartButtonEl.classList.add('colab-df-quickchart-complete');\n",
              "    }\n",
              "    (() => {\n",
              "      let quickchartButtonEl =\n",
              "        document.querySelector('#df-ca30ef4e-1451-4e9c-8f77-55d06db1ee23 button');\n",
              "      quickchartButtonEl.style.display =\n",
              "        google.colab.kernel.accessAllowed ? 'block' : 'none';\n",
              "    })();\n",
              "  </script>\n",
              "</div>\n",
              "\n",
              "    </div>\n",
              "  </div>\n"
            ],
            "application/vnd.google.colaboratory.intrinsic+json": {
              "type": "dataframe",
              "variable_name": "table",
              "summary": "{\n  \"name\": \"table\",\n  \"rows\": 100000,\n  \"fields\": [\n    {\n      \"column\": \"text\",\n      \"properties\": {\n        \"dtype\": \"string\",\n        \"num_unique_values\": 89836,\n        \"samples\": [\n          \"limit car usag is a good thing for the environ buo can also caus peopl oo be late oo work or be late oo a famili parti ride bike and skate are healthi buo some older peopl cant ride bike and they shouldnto drive either io danger limit car usag ha mani advantag good one and bad one the more peopl drive car the wors the environ get car send out pollut some place donto allow vehicl in their citi help them build park for children or new store io caus less pollut oo the environ there are 70 percent of vauban famili ohio do new own car and 57 percent sold their car they say io make you also happier oo new have a car donto have oo worri about pay for ga oo geographi somewher in the unit state their are job you can drive oo or go on an train or bu oo geographi their buse are bad for the environ also and you can geographi late oo work unless you wake up an hour or two earlier in vauban germani their are onli 2 place you can park your car which is in larg garag ao the edg of the develop buo you have oo buy a spew for 40000 along with a home if car usag wa forbidden children would have oo walk oo school or ride their bike io would make them awhil becaus new everi child live down the street from school pari enforc a partial drive ban oo clear the air of the global citi on a monday even number licens place were order op leav their car ao home or they will have oo pay 31 io also appli for odd number licens place\",\n          \"commit to a career at a young age can come with a host of advantag and disadvantag on one hand parent and societi can encourag and influenc careerfocus decis make help to steer young student in the right direct careerwis thi can open up opportun for success and growth but can also bring about struggl such as increas stress impact on person health and relationship the board of teacher at a privat school recogn the potenti advantag of commit to a career at a young age such as have a clearer focu on educ and career goal as well as have more time to work toward profession excel enabl a potenti smoother transit into the job market exampl of success student who have commit to a career at a young age includ bill gate who drop out of colleg to start microsoft and steve job who drop out of colleg shortli after enrol to pursu hi entrepreneuri endeavor both of these tech pioneer have gone to becom worldrenown innov and success\",\n          \"i disagre with driverless car driverless car are not a veri smart idea just becuas googl ha made driverless car sinc 2009 they have drove over half million mile without a crash but googl car are not driverless they alert the driver to take over when pull in and out of a driveway or deal with someth bad hap near them the googl driverless car are not so driverless my thought about the driverless car is what happen if the car crash who fault is it the person in the car or the manufactur what if we get driverless car what is go to happen to insur for car insur peopl will lose money and if the car did crash it more money out of your pocket to fix it inst the insur peopl have to deal with some payment car manufactur like bmw audi ext have made more of there car safe for peopl and i do not think make them driverless would be safe what if the car goe nut and the driver ha no control i feel that if we get driverless car more peopl will lose there life then without them we can not alway reli on driverless car or the technolog becuas one day we will not have it so i think we need to just drop the whole driverless car and work more on safeti\"\n        ],\n        \"semantic_type\": \"\",\n        \"description\": \"\"\n      }\n    },\n    {\n      \"column\": \"generated\",\n      \"properties\": {\n        \"dtype\": \"number\",\n        \"std\": 0,\n        \"min\": 0,\n        \"max\": 1,\n        \"num_unique_values\": 2,\n        \"samples\": [\n          1,\n          0\n        ],\n        \"semantic_type\": \"\",\n        \"description\": \"\"\n      }\n    }\n  ]\n}"
            }
          },
          "metadata": {},
          "execution_count": 19
        }
      ]
    },
    {
      "cell_type": "markdown",
      "source": [
        "Slicing up the table to 60000 data to prevent RAM crashing"
      ],
      "metadata": {
        "id": "4nJWGF0p8QpC"
      }
    },
    {
      "cell_type": "code",
      "source": [
        "table=table.head(60000)"
      ],
      "metadata": {
        "id": "rb1ksbNoEuUw"
      },
      "execution_count": 20,
      "outputs": []
    },
    {
      "cell_type": "code",
      "source": [
        "table.head()"
      ],
      "metadata": {
        "colab": {
          "base_uri": "https://localhost:8080/",
          "height": 206
        },
        "id": "VcXIRxZzH1lz",
        "outputId": "ae28b51a-3da1-48e3-a070-ecb8049fb454"
      },
      "execution_count": 21,
      "outputs": [
        {
          "output_type": "execute_result",
          "data": {
            "text/plain": [
              "                                                text  generated\n",
              "0  car car have been around sinc they becam famou...          0\n",
              "1  transport is a larg necess in most countri wor...          0\n",
              "2  america love affair with it vehicl seem to be ...          0\n",
              "3  how often do you ride in a car do you drive a ...          0\n",
              "4  car are a wonder thing they are perhap one of ...          0"
            ],
            "text/html": [
              "\n",
              "  <div id=\"df-c7f5e002-d14d-44ae-9c81-84a7f501d726\" class=\"colab-df-container\">\n",
              "    <div>\n",
              "<style scoped>\n",
              "    .dataframe tbody tr th:only-of-type {\n",
              "        vertical-align: middle;\n",
              "    }\n",
              "\n",
              "    .dataframe tbody tr th {\n",
              "        vertical-align: top;\n",
              "    }\n",
              "\n",
              "    .dataframe thead th {\n",
              "        text-align: right;\n",
              "    }\n",
              "</style>\n",
              "<table border=\"1\" class=\"dataframe\">\n",
              "  <thead>\n",
              "    <tr style=\"text-align: right;\">\n",
              "      <th></th>\n",
              "      <th>text</th>\n",
              "      <th>generated</th>\n",
              "    </tr>\n",
              "  </thead>\n",
              "  <tbody>\n",
              "    <tr>\n",
              "      <th>0</th>\n",
              "      <td>car car have been around sinc they becam famou...</td>\n",
              "      <td>0</td>\n",
              "    </tr>\n",
              "    <tr>\n",
              "      <th>1</th>\n",
              "      <td>transport is a larg necess in most countri wor...</td>\n",
              "      <td>0</td>\n",
              "    </tr>\n",
              "    <tr>\n",
              "      <th>2</th>\n",
              "      <td>america love affair with it vehicl seem to be ...</td>\n",
              "      <td>0</td>\n",
              "    </tr>\n",
              "    <tr>\n",
              "      <th>3</th>\n",
              "      <td>how often do you ride in a car do you drive a ...</td>\n",
              "      <td>0</td>\n",
              "    </tr>\n",
              "    <tr>\n",
              "      <th>4</th>\n",
              "      <td>car are a wonder thing they are perhap one of ...</td>\n",
              "      <td>0</td>\n",
              "    </tr>\n",
              "  </tbody>\n",
              "</table>\n",
              "</div>\n",
              "    <div class=\"colab-df-buttons\">\n",
              "\n",
              "  <div class=\"colab-df-container\">\n",
              "    <button class=\"colab-df-convert\" onclick=\"convertToInteractive('df-c7f5e002-d14d-44ae-9c81-84a7f501d726')\"\n",
              "            title=\"Convert this dataframe to an interactive table.\"\n",
              "            style=\"display:none;\">\n",
              "\n",
              "  <svg xmlns=\"http://www.w3.org/2000/svg\" height=\"24px\" viewBox=\"0 -960 960 960\">\n",
              "    <path d=\"M120-120v-720h720v720H120Zm60-500h600v-160H180v160Zm220 220h160v-160H400v160Zm0 220h160v-160H400v160ZM180-400h160v-160H180v160Zm440 0h160v-160H620v160ZM180-180h160v-160H180v160Zm440 0h160v-160H620v160Z\"/>\n",
              "  </svg>\n",
              "    </button>\n",
              "\n",
              "  <style>\n",
              "    .colab-df-container {\n",
              "      display:flex;\n",
              "      gap: 12px;\n",
              "    }\n",
              "\n",
              "    .colab-df-convert {\n",
              "      background-color: #E8F0FE;\n",
              "      border: none;\n",
              "      border-radius: 50%;\n",
              "      cursor: pointer;\n",
              "      display: none;\n",
              "      fill: #1967D2;\n",
              "      height: 32px;\n",
              "      padding: 0 0 0 0;\n",
              "      width: 32px;\n",
              "    }\n",
              "\n",
              "    .colab-df-convert:hover {\n",
              "      background-color: #E2EBFA;\n",
              "      box-shadow: 0px 1px 2px rgba(60, 64, 67, 0.3), 0px 1px 3px 1px rgba(60, 64, 67, 0.15);\n",
              "      fill: #174EA6;\n",
              "    }\n",
              "\n",
              "    .colab-df-buttons div {\n",
              "      margin-bottom: 4px;\n",
              "    }\n",
              "\n",
              "    [theme=dark] .colab-df-convert {\n",
              "      background-color: #3B4455;\n",
              "      fill: #D2E3FC;\n",
              "    }\n",
              "\n",
              "    [theme=dark] .colab-df-convert:hover {\n",
              "      background-color: #434B5C;\n",
              "      box-shadow: 0px 1px 3px 1px rgba(0, 0, 0, 0.15);\n",
              "      filter: drop-shadow(0px 1px 2px rgba(0, 0, 0, 0.3));\n",
              "      fill: #FFFFFF;\n",
              "    }\n",
              "  </style>\n",
              "\n",
              "    <script>\n",
              "      const buttonEl =\n",
              "        document.querySelector('#df-c7f5e002-d14d-44ae-9c81-84a7f501d726 button.colab-df-convert');\n",
              "      buttonEl.style.display =\n",
              "        google.colab.kernel.accessAllowed ? 'block' : 'none';\n",
              "\n",
              "      async function convertToInteractive(key) {\n",
              "        const element = document.querySelector('#df-c7f5e002-d14d-44ae-9c81-84a7f501d726');\n",
              "        const dataTable =\n",
              "          await google.colab.kernel.invokeFunction('convertToInteractive',\n",
              "                                                    [key], {});\n",
              "        if (!dataTable) return;\n",
              "\n",
              "        const docLinkHtml = 'Like what you see? Visit the ' +\n",
              "          '<a target=\"_blank\" href=https://colab.research.google.com/notebooks/data_table.ipynb>data table notebook</a>'\n",
              "          + ' to learn more about interactive tables.';\n",
              "        element.innerHTML = '';\n",
              "        dataTable['output_type'] = 'display_data';\n",
              "        await google.colab.output.renderOutput(dataTable, element);\n",
              "        const docLink = document.createElement('div');\n",
              "        docLink.innerHTML = docLinkHtml;\n",
              "        element.appendChild(docLink);\n",
              "      }\n",
              "    </script>\n",
              "  </div>\n",
              "\n",
              "\n",
              "<div id=\"df-3c3a2903-1bcc-433c-973f-72e350b3cce8\">\n",
              "  <button class=\"colab-df-quickchart\" onclick=\"quickchart('df-3c3a2903-1bcc-433c-973f-72e350b3cce8')\"\n",
              "            title=\"Suggest charts\"\n",
              "            style=\"display:none;\">\n",
              "\n",
              "<svg xmlns=\"http://www.w3.org/2000/svg\" height=\"24px\"viewBox=\"0 0 24 24\"\n",
              "     width=\"24px\">\n",
              "    <g>\n",
              "        <path d=\"M19 3H5c-1.1 0-2 .9-2 2v14c0 1.1.9 2 2 2h14c1.1 0 2-.9 2-2V5c0-1.1-.9-2-2-2zM9 17H7v-7h2v7zm4 0h-2V7h2v10zm4 0h-2v-4h2v4z\"/>\n",
              "    </g>\n",
              "</svg>\n",
              "  </button>\n",
              "\n",
              "<style>\n",
              "  .colab-df-quickchart {\n",
              "      --bg-color: #E8F0FE;\n",
              "      --fill-color: #1967D2;\n",
              "      --hover-bg-color: #E2EBFA;\n",
              "      --hover-fill-color: #174EA6;\n",
              "      --disabled-fill-color: #AAA;\n",
              "      --disabled-bg-color: #DDD;\n",
              "  }\n",
              "\n",
              "  [theme=dark] .colab-df-quickchart {\n",
              "      --bg-color: #3B4455;\n",
              "      --fill-color: #D2E3FC;\n",
              "      --hover-bg-color: #434B5C;\n",
              "      --hover-fill-color: #FFFFFF;\n",
              "      --disabled-bg-color: #3B4455;\n",
              "      --disabled-fill-color: #666;\n",
              "  }\n",
              "\n",
              "  .colab-df-quickchart {\n",
              "    background-color: var(--bg-color);\n",
              "    border: none;\n",
              "    border-radius: 50%;\n",
              "    cursor: pointer;\n",
              "    display: none;\n",
              "    fill: var(--fill-color);\n",
              "    height: 32px;\n",
              "    padding: 0;\n",
              "    width: 32px;\n",
              "  }\n",
              "\n",
              "  .colab-df-quickchart:hover {\n",
              "    background-color: var(--hover-bg-color);\n",
              "    box-shadow: 0 1px 2px rgba(60, 64, 67, 0.3), 0 1px 3px 1px rgba(60, 64, 67, 0.15);\n",
              "    fill: var(--button-hover-fill-color);\n",
              "  }\n",
              "\n",
              "  .colab-df-quickchart-complete:disabled,\n",
              "  .colab-df-quickchart-complete:disabled:hover {\n",
              "    background-color: var(--disabled-bg-color);\n",
              "    fill: var(--disabled-fill-color);\n",
              "    box-shadow: none;\n",
              "  }\n",
              "\n",
              "  .colab-df-spinner {\n",
              "    border: 2px solid var(--fill-color);\n",
              "    border-color: transparent;\n",
              "    border-bottom-color: var(--fill-color);\n",
              "    animation:\n",
              "      spin 1s steps(1) infinite;\n",
              "  }\n",
              "\n",
              "  @keyframes spin {\n",
              "    0% {\n",
              "      border-color: transparent;\n",
              "      border-bottom-color: var(--fill-color);\n",
              "      border-left-color: var(--fill-color);\n",
              "    }\n",
              "    20% {\n",
              "      border-color: transparent;\n",
              "      border-left-color: var(--fill-color);\n",
              "      border-top-color: var(--fill-color);\n",
              "    }\n",
              "    30% {\n",
              "      border-color: transparent;\n",
              "      border-left-color: var(--fill-color);\n",
              "      border-top-color: var(--fill-color);\n",
              "      border-right-color: var(--fill-color);\n",
              "    }\n",
              "    40% {\n",
              "      border-color: transparent;\n",
              "      border-right-color: var(--fill-color);\n",
              "      border-top-color: var(--fill-color);\n",
              "    }\n",
              "    60% {\n",
              "      border-color: transparent;\n",
              "      border-right-color: var(--fill-color);\n",
              "    }\n",
              "    80% {\n",
              "      border-color: transparent;\n",
              "      border-right-color: var(--fill-color);\n",
              "      border-bottom-color: var(--fill-color);\n",
              "    }\n",
              "    90% {\n",
              "      border-color: transparent;\n",
              "      border-bottom-color: var(--fill-color);\n",
              "    }\n",
              "  }\n",
              "</style>\n",
              "\n",
              "  <script>\n",
              "    async function quickchart(key) {\n",
              "      const quickchartButtonEl =\n",
              "        document.querySelector('#' + key + ' button');\n",
              "      quickchartButtonEl.disabled = true;  // To prevent multiple clicks.\n",
              "      quickchartButtonEl.classList.add('colab-df-spinner');\n",
              "      try {\n",
              "        const charts = await google.colab.kernel.invokeFunction(\n",
              "            'suggestCharts', [key], {});\n",
              "      } catch (error) {\n",
              "        console.error('Error during call to suggestCharts:', error);\n",
              "      }\n",
              "      quickchartButtonEl.classList.remove('colab-df-spinner');\n",
              "      quickchartButtonEl.classList.add('colab-df-quickchart-complete');\n",
              "    }\n",
              "    (() => {\n",
              "      let quickchartButtonEl =\n",
              "        document.querySelector('#df-3c3a2903-1bcc-433c-973f-72e350b3cce8 button');\n",
              "      quickchartButtonEl.style.display =\n",
              "        google.colab.kernel.accessAllowed ? 'block' : 'none';\n",
              "    })();\n",
              "  </script>\n",
              "</div>\n",
              "\n",
              "    </div>\n",
              "  </div>\n"
            ],
            "application/vnd.google.colaboratory.intrinsic+json": {
              "type": "dataframe",
              "variable_name": "table",
              "summary": "{\n  \"name\": \"table\",\n  \"rows\": 60000,\n  \"fields\": [\n    {\n      \"column\": \"text\",\n      \"properties\": {\n        \"dtype\": \"string\",\n        \"num_unique_values\": 53759,\n        \"samples\": [\n          \"summertim is by far the most favor season among student student of all age get to relax and not have to worri about what time the bu come or what day their sixpag lab report is due three month of no worri is someth that anyon could dream for and student are fortun to get it everi year some could even argu that summer is too short consid that we onli get three month of break compar to the nine month we are in school nevertheless summer is a gift for all the hard work student put in all year as great as summer may appear to be there is sometim a downsid that is tie to school summer project and assign usual the word summer and assign are not suppos to go in the same sentenc but in some instanc school give assign to student over the summer so they are not unprepar for the arriv of the next school year these assign are meant to be help rather than work to keep you busi most student think these assign are not right to give and prefer to design the project themselv if they must have them for mani obviou reason student should not design their own summer project for it is the teacher that truli know what will better them as student although studentdesign summer project may seem like an advantag to the student it is veri much the opposit if a student design someth for themselv to be abl to learn they would not know what their suppos to do with no real knowledg of the curriculum how would a student be more well suit to creat an assign for themselv student need the teacher to set thing up for them becaus they are the profession that get paid to make these project the teacher will alway know what is best for the student whether the student choos to accept that or not summer project are not alway the most fun to do but teacher construct them in order to benefit the student similar to the say mother know best teacher know what is best for the student summer assign should result in grate toward teacher rather than resent becaus it is those same teacher who give the assign that care the most about the student futur and want them to be challeng the bigger pictur of these assign should be thought about rather than see them as absolut burden just trust and believ in the process next if a student make hisher own assign they would not push the limit of their own abil in realiti if someth could come easi rather than difficult for someon the odd of take the difficult path are slim to none for exampl a student is given the opportun to write an essay on ani topic they choos to that may seem like an advantag to the student but in realiti is a disadvantag the student will choos a subject that is veri familiar to them becaus it is the safest to dive into do what is easi defeat the whole purpos of what is suppos to strengthen a student teacher give assign is a more sensibl concept becaus they know what will benefit the student the whole purpos of assign and project be assign rather than studentdesign is to break student out of their comfort zone test their abil and see what they are capabl of give a better evalu of the student a student willing to work is crucial to their futur as well as other aspect of life studentdesign project are not usual given becaus they do not display true capabl a task must be given to a student to determin their abil to go abov and beyond lastli teacherdesign summer assign give the student a better understand of what to expect for the upcom school year to illustr a new student could newli enrol in the school after move from anoth state the standard compar from their old school to the new school are like to be differ leav the student oblivi to what they will endur the summer assign is a preview for the year show what the student should expect to experi throughout the durat of the year summer project also refresh student to how school goe so they are not go into the new year unprepar everi student for the most part come back to school rusti after summer break handwrit is crook have to adjust to the new schedul even forget the login and password to the comput all of those thing are expect becaus those thing are taken out of the daili schedul that student endur all of those thing also make teacherdesign summer project all the more effect as refresh do those project get student back in the swing of thing as well as provid a head start for the new year to conclud it is essenti to student that their teacher design their summer project there are no real advantag to student design their own summer assign whether student realiz that or not teacher work everyday to better the educ and futur of their student which mean they know what is better for their student in the grand scheme of thing although they may seem like a drag summer assign are meant to give a tast of what the new year will bring a teacher would not give an assign that provid no benefit to the student teacher are alway a step ahead and know what is benefici and not let them continu to do what they do best which is help student go forward\",\n          \"first of all the technolog is realli useful and i think that it will have a posiit effect in peopl live the cuestion is how for exampl peopl will not have to take a bu to visit other peopl or walk mile to see other folk instead they can just call in their phone and have a littl chit chat by use tecnolog second is that the tecnolog can do part of the work for exampl you are write a note for a pati ceremoni marri whatev and it have to be one for each person what are you wo to do just by use the technnolog you can print evrith you want it make easi your work also have more time to do someth els in the mean time you can use your phone and unload an app to shop somth that you like there are sever thing like cloth shoe food tool and other thing that can be useful for you or you child whatev and there is also the app for book peopl dont have to take a lot of time loke for a book they can just find it by put it in the devic or the computt third some benefit of the technolog is the time that you spent look for sonth or decid anoth benfit is the thing that you can learn with all the inform that is in the web ofcours if you use it properli like it is you can learn how to be an artist how to cook and how to fix someth broken in addit sometim peopl get addict in a web and that could be bad that is when the neg effec came peopl dont know what they are do when they get adict to it that is whi peopl have to know how to use it correctli consecu the technolog is develop more and more we can built great thing for the futur and creat more eventu the tecnolog is not the onli one that is develop there is the scienc too becaus it help to develop other thing and bring protect to peopl in conclut the technolog can bring posit effect to peopl becaus is a sounc of knowledg that you can use to inprov peopl live\",\n          \"it is wide accept that technolog ha revolution the way we live and work with it everincreas preval the internet now play a major role in our live one of the biggest chang it ha brought about is commun with smartphon email and social media platform peopl can stay connect to one anoth more easili than ever befor but despit these advanc in commun technolog there are still mani aspect of human interact that remain irreplac \\u2013 specif facetofac interact in order for ani meaning relationship to exist between two parti an emot connect must be establish someth which cannot be achiev through a screen or over the phone research ha shown that facetofac convers give us greater insight into others\\u2019 feel by allow us to pick up on subtl cue such as bodi languag or facial express which would otherwis go unnot if commun sole through digit mean furthermor when commun digit there tend to be a disconnect between what we say and how it\\u2019 understood due to miscommun caus by typo or other error wherea when speak directli with each other in person both parti have access to audibl feedback which ensur that messag get across clearli without confus or misunderstand despit advanc in commun technolog provid conveni and access for individu seek instant gratif without put in too much effort into establish relationship noth beat genuin human contact facilit through physic presenc togeth with verbal dialogu exchang dure convers held facetofac such exchang creat memori that last forev while also aid us emot by allow us to connect deepli with one anoth lead ultim toward foster trust\\u2014essenti element requir for build strong connect and last friendship not easili achiev via digit mean alon therefor although modern technolog may enabl easier access and faster speed at connect with peopl remot howev true intimaci requir close onli found within direct physic presenc \\u2014 make real life meet far richer than virtual one as they provid an experi like no other\"\n        ],\n        \"semantic_type\": \"\",\n        \"description\": \"\"\n      }\n    },\n    {\n      \"column\": \"generated\",\n      \"properties\": {\n        \"dtype\": \"number\",\n        \"std\": 0,\n        \"min\": 0,\n        \"max\": 1,\n        \"num_unique_values\": 2,\n        \"samples\": [\n          1,\n          0\n        ],\n        \"semantic_type\": \"\",\n        \"description\": \"\"\n      }\n    }\n  ]\n}"
            }
          },
          "metadata": {},
          "execution_count": 21
        }
      ]
    },
    {
      "cell_type": "code",
      "source": [
        "table['generated'].value_counts()"
      ],
      "metadata": {
        "colab": {
          "base_uri": "https://localhost:8080/"
        },
        "id": "vMIYAg7rxLFH",
        "outputId": "9ce4fe4a-70c0-4e1b-a21d-dc37c2b95f4a"
      },
      "execution_count": 41,
      "outputs": [
        {
          "output_type": "execute_result",
          "data": {
            "text/plain": [
              "1    32949\n",
              "0    27051\n",
              "Name: generated, dtype: int64"
            ]
          },
          "metadata": {},
          "execution_count": 41
        }
      ]
    },
    {
      "cell_type": "markdown",
      "source": [
        "Now tokenizing all word in the text columns and converting all the sentences into a tokenized sequence"
      ],
      "metadata": {
        "id": "6ufixABe8hxG"
      }
    },
    {
      "cell_type": "code",
      "source": [
        "from tensorflow.keras.preprocessing.text import Tokenizer\n",
        "from tensorflow.keras.preprocessing.sequence import pad_sequences"
      ],
      "metadata": {
        "id": "ep8aBb87IDsZ"
      },
      "execution_count": 22,
      "outputs": []
    },
    {
      "cell_type": "code",
      "source": [
        "tokenizer=Tokenizer()"
      ],
      "metadata": {
        "id": "cLQS7LpyIQci"
      },
      "execution_count": 23,
      "outputs": []
    },
    {
      "cell_type": "code",
      "source": [
        "tokenizer.fit_on_texts(table['text'])"
      ],
      "metadata": {
        "id": "8xCIggBEIYq7"
      },
      "execution_count": 24,
      "outputs": []
    },
    {
      "cell_type": "code",
      "source": [
        "len(tokenizer.word_index)"
      ],
      "metadata": {
        "colab": {
          "base_uri": "https://localhost:8080/"
        },
        "id": "PoAZr-7DIef9",
        "outputId": "8337dd66-3c87-44cc-daf9-40aeb6d6e08e"
      },
      "execution_count": 25,
      "outputs": [
        {
          "output_type": "execute_result",
          "data": {
            "text/plain": [
              "78251"
            ]
          },
          "metadata": {},
          "execution_count": 25
        }
      ]
    },
    {
      "cell_type": "code",
      "source": [
        "sequences=tokenizer.texts_to_sequences(table['text'])"
      ],
      "metadata": {
        "id": "mkPKxmeMIogr"
      },
      "execution_count": 26,
      "outputs": []
    },
    {
      "cell_type": "code",
      "source": [
        "max([len(x) for x in sequences])"
      ],
      "metadata": {
        "colab": {
          "base_uri": "https://localhost:8080/"
        },
        "id": "T0A-vo09IxRe",
        "outputId": "b5d4d1f4-7963-4b36-a869-a78bb2d2655b"
      },
      "execution_count": 27,
      "outputs": [
        {
          "output_type": "execute_result",
          "data": {
            "text/plain": [
              "1656"
            ]
          },
          "metadata": {},
          "execution_count": 27
        }
      ]
    },
    {
      "cell_type": "code",
      "source": [
        "padded=pad_sequences(sequences,maxlen=max([len(x) for x in sequences]),padding='post')"
      ],
      "metadata": {
        "id": "cqeDkqXhI3gi"
      },
      "execution_count": 28,
      "outputs": []
    },
    {
      "cell_type": "code",
      "source": [
        "padded.shape"
      ],
      "metadata": {
        "colab": {
          "base_uri": "https://localhost:8080/"
        },
        "id": "VjLLt-MyJmDG",
        "outputId": "5259a920-f7fe-44a8-8755-71136c392072"
      },
      "execution_count": 29,
      "outputs": [
        {
          "output_type": "execute_result",
          "data": {
            "text/plain": [
              "(60000, 1656)"
            ]
          },
          "metadata": {},
          "execution_count": 29
        }
      ]
    },
    {
      "cell_type": "code",
      "source": [
        "padded"
      ],
      "metadata": {
        "colab": {
          "base_uri": "https://localhost:8080/"
        },
        "id": "XPnRkE3tJnnl",
        "outputId": "24849eac-982e-4176-9f71-559f7e6d4e47"
      },
      "execution_count": 30,
      "outputs": [
        {
          "output_type": "execute_result",
          "data": {
            "text/plain": [
              "array([[  20,   20,   15, ...,    0,    0,    0],\n",
              "       [ 110,    8,    5, ...,    0,    0,    0],\n",
              "       [ 721,  485, 3293, ...,    0,    0,    0],\n",
              "       ...,\n",
              "       [ 760, 1954, 1038, ...,    0,    0,    0],\n",
              "       [ 760, 1250,   28, ...,    0,    0,    0],\n",
              "       [ 760, 1038,  662, ...,    0,    0,    0]], dtype=int32)"
            ]
          },
          "metadata": {},
          "execution_count": 30
        }
      ]
    },
    {
      "cell_type": "markdown",
      "source": [
        "Seperating the data column and the target column"
      ],
      "metadata": {
        "id": "JDvDPMDJ8ti1"
      }
    },
    {
      "cell_type": "code",
      "source": [
        "X=padded\n",
        "y=table['generated']"
      ],
      "metadata": {
        "id": "8joHKEQgJoin"
      },
      "execution_count": 31,
      "outputs": []
    },
    {
      "cell_type": "markdown",
      "source": [
        "Splitting both into training and testing data in the ratio of 75:25"
      ],
      "metadata": {
        "id": "8KRhWg5K809a"
      }
    },
    {
      "cell_type": "code",
      "source": [
        "from sklearn.model_selection import train_test_split"
      ],
      "metadata": {
        "id": "DGB7cSQ5J2MI"
      },
      "execution_count": 32,
      "outputs": []
    },
    {
      "cell_type": "code",
      "source": [
        "X_train,X_test,y_train,y_test=train_test_split(X,y,test_size=0.25,random_state=21)"
      ],
      "metadata": {
        "id": "kJ8jXPHvJ7lw"
      },
      "execution_count": 33,
      "outputs": []
    },
    {
      "cell_type": "code",
      "source": [
        "X_train.shape,X_test.shape"
      ],
      "metadata": {
        "colab": {
          "base_uri": "https://localhost:8080/"
        },
        "id": "JdTKyL3EKM08",
        "outputId": "31ef9012-08c8-4fdc-980f-43d037ea6610"
      },
      "execution_count": 34,
      "outputs": [
        {
          "output_type": "execute_result",
          "data": {
            "text/plain": [
              "((45000, 1656), (15000, 1656))"
            ]
          },
          "metadata": {},
          "execution_count": 34
        }
      ]
    },
    {
      "cell_type": "markdown",
      "source": [
        "Building the Model"
      ],
      "metadata": {
        "id": "Bs0t6dT59UTf"
      }
    },
    {
      "cell_type": "code",
      "source": [
        "from tensorflow.keras import models,layers"
      ],
      "metadata": {
        "id": "J4wIaTABKPiv"
      },
      "execution_count": 35,
      "outputs": []
    },
    {
      "cell_type": "code",
      "source": [
        "model=models.Sequential()"
      ],
      "metadata": {
        "id": "vzavZIkTKcW1"
      },
      "execution_count": 36,
      "outputs": []
    },
    {
      "cell_type": "code",
      "source": [
        "model.add(layers.Embedding(len(tokenizer.word_index)+1,100,mask_zero=True))\n",
        "model.add(layers.LSTM(150,dropout=0.2))\n",
        "model.add(layers.Dropout(0.4))\n",
        "model.add(layers.Dense(1,activation='sigmoid'))\n",
        "\n",
        "model.compile(optimizer='adam',loss='binary_crossentropy',metrics=['accuracy'])"
      ],
      "metadata": {
        "id": "V0S0TOxiKfZy"
      },
      "execution_count": 37,
      "outputs": []
    },
    {
      "cell_type": "markdown",
      "source": [
        "Training the model with the training data with 2 epochs and validation split of 10%"
      ],
      "metadata": {
        "id": "9fNTbUQW9aAr"
      }
    },
    {
      "cell_type": "code",
      "source": [
        "model.fit(X_train,y_train,epochs=2,validation_split=0.2)"
      ],
      "metadata": {
        "colab": {
          "base_uri": "https://localhost:8080/"
        },
        "id": "gCS470rRLOYx",
        "outputId": "44121f8e-b127-4ebd-eb08-e686762af736"
      },
      "execution_count": 38,
      "outputs": [
        {
          "output_type": "stream",
          "name": "stdout",
          "text": [
            "Epoch 1/2\n",
            "1125/1125 [==============================] - 4966s 4s/step - loss: 0.1418 - accuracy: 0.9549 - val_loss: 0.0710 - val_accuracy: 0.9790\n",
            "Epoch 2/2\n",
            "1125/1125 [==============================] - 4922s 4s/step - loss: 0.0907 - accuracy: 0.9735 - val_loss: 0.0613 - val_accuracy: 0.9796\n"
          ]
        },
        {
          "output_type": "execute_result",
          "data": {
            "text/plain": [
              "<keras.src.callbacks.History at 0x7b50807157b0>"
            ]
          },
          "metadata": {},
          "execution_count": 38
        }
      ]
    },
    {
      "cell_type": "markdown",
      "source": [
        "After training we will evaluate testing data"
      ],
      "metadata": {
        "id": "N3Rs1_ZO968l"
      }
    },
    {
      "cell_type": "code",
      "source": [
        "model.evaluate(X_test,y_test)"
      ],
      "metadata": {
        "id": "NJmkHd_7LZyP",
        "colab": {
          "base_uri": "https://localhost:8080/"
        },
        "outputId": "06deb9c6-81ed-42fd-f079-5fd6513e353f"
      },
      "execution_count": 39,
      "outputs": [
        {
          "output_type": "stream",
          "name": "stdout",
          "text": [
            "469/469 [==============================] - 580s 1s/step - loss: 0.0605 - accuracy: 0.9799\n"
          ]
        },
        {
          "output_type": "execute_result",
          "data": {
            "text/plain": [
              "[0.060472894459962845, 0.9798666834831238]"
            ]
          },
          "metadata": {},
          "execution_count": 39
        }
      ]
    },
    {
      "cell_type": "markdown",
      "source": [
        "Train Data Accuracy : 97.35% \\\n",
        "Validation Data Accuracy : 97.96% \\\n",
        "Test Data Accuracy : 97.98%"
      ],
      "metadata": {
        "id": "7Bu89pOr-YCA"
      }
    },
    {
      "cell_type": "markdown",
      "source": [
        "***"
      ],
      "metadata": {
        "id": "bStQxnE7IzSP"
      }
    },
    {
      "cell_type": "code",
      "source": [
        "pred=model.predict(X)"
      ],
      "metadata": {
        "colab": {
          "base_uri": "https://localhost:8080/"
        },
        "id": "hPwg9Q35-sKA",
        "outputId": "acbf3aa3-3051-414c-84c7-bb8dfe0e11e8"
      },
      "execution_count": 60,
      "outputs": [
        {
          "output_type": "stream",
          "name": "stdout",
          "text": [
            "1875/1875 [==============================] - 2433s 1s/step\n"
          ]
        }
      ]
    },
    {
      "cell_type": "code",
      "source": [
        "pred=np.array([np.round(i) for i in pred])"
      ],
      "metadata": {
        "id": "a5idjnSP_wSQ"
      },
      "execution_count": 62,
      "outputs": []
    },
    {
      "cell_type": "code",
      "source": [
        "from sklearn.metrics import accuracy_score"
      ],
      "metadata": {
        "id": "BS9iXFWD_BqT"
      },
      "execution_count": 63,
      "outputs": []
    },
    {
      "cell_type": "code",
      "source": [
        "accuracy_score(table['generated'],pred)"
      ],
      "metadata": {
        "colab": {
          "base_uri": "https://localhost:8080/"
        },
        "id": "qUiSsP6Z_HhE",
        "outputId": "0f4e93bd-0d0a-41d5-9ac5-aa335acd5127"
      },
      "execution_count": 64,
      "outputs": [
        {
          "output_type": "execute_result",
          "data": {
            "text/plain": [
              "0.9847833333333333"
            ]
          },
          "metadata": {},
          "execution_count": 64
        }
      ]
    },
    {
      "cell_type": "markdown",
      "source": [
        "We got our overall accuracy of our model  as 98.47%"
      ],
      "metadata": {
        "id": "Rxygn80lInPW"
      }
    },
    {
      "cell_type": "markdown",
      "source": [
        "***"
      ],
      "metadata": {
        "id": "sjfg6I_cIxLS"
      }
    },
    {
      "cell_type": "markdown",
      "source": [
        "Exporting the model"
      ],
      "metadata": {
        "id": "TpzN4MXkJ8oT"
      }
    },
    {
      "cell_type": "code",
      "source": [
        "import pickle\n",
        "pickle.dump(model,open(\"AI_vs_Human.pkl\",'wb'))"
      ],
      "metadata": {
        "id": "vNfutkezrl4_"
      },
      "execution_count": 40,
      "outputs": []
    },
    {
      "cell_type": "markdown",
      "source": [
        "***"
      ],
      "metadata": {
        "id": "sEAg6jNRKCJW"
      }
    },
    {
      "cell_type": "markdown",
      "source": [
        "Testing the model with random sentences some generated by me and some by ChatGPT"
      ],
      "metadata": {
        "id": "h6-FM_fkKEYP"
      }
    },
    {
      "cell_type": "code",
      "source": [
        "text=\"Innovation in artificial intelligence is driving the future of technology\"\n",
        "text=text.lower()\n",
        "text=punc_rem(text)\n",
        "text=stemmer(text)\n",
        "seq=tokenizer.texts_to_sequences([text])\n",
        "pad=pad_sequences(seq,maxlen=max([len(i) for i in sequences]),padding='post')\n",
        "pred=model.predict(pad)\n",
        "print(pred)\n",
        "if pred>=0.5:\n",
        "  print('AI Generated Text')\n",
        "else:\n",
        "  print('Human Generated Text')"
      ],
      "metadata": {
        "colab": {
          "base_uri": "https://localhost:8080/"
        },
        "id": "0Cq2RAdew8VO",
        "outputId": "b1ac2912-40f7-4fc4-c0c4-1d2393c7a594"
      },
      "execution_count": 48,
      "outputs": [
        {
          "output_type": "stream",
          "name": "stdout",
          "text": [
            "1/1 [==============================] - 0s 405ms/step\n",
            "[[0.57946676]]\n",
            "AI Generated Text\n"
          ]
        }
      ]
    },
    {
      "cell_type": "code",
      "source": [
        "text=\"The ethical implications of AI development must be carefully considered to ensure a fair and just society.\"\n",
        "text=text.lower()\n",
        "text=punc_rem(text)\n",
        "text=stemmer(text)\n",
        "seq=tokenizer.texts_to_sequences([text])\n",
        "pad=pad_sequences(seq,maxlen=max([len(i) for i in sequences]),padding='post')\n",
        "pred=model.predict(pad)\n",
        "print(pred)\n",
        "if pred>=0.5:\n",
        "  print('AI Generated Text')\n",
        "else:\n",
        "  print('Human Generated Text')"
      ],
      "metadata": {
        "colab": {
          "base_uri": "https://localhost:8080/"
        },
        "id": "aMtfBOZKyZbp",
        "outputId": "55a890ea-05da-43ae-d4ba-fe072241459c"
      },
      "execution_count": 47,
      "outputs": [
        {
          "output_type": "stream",
          "name": "stdout",
          "text": [
            "1/1 [==============================] - 0s 223ms/step\n",
            "[[0.99829555]]\n",
            "AI Generated Text\n"
          ]
        }
      ]
    },
    {
      "cell_type": "code",
      "source": [
        "text=\"Hey! I made this project a week ago i wanted to share this with you. Can you please check it out?\"\n",
        "text=text.lower()\n",
        "text=punc_rem(text)\n",
        "text=stemmer(text)\n",
        "seq=tokenizer.texts_to_sequences([text])\n",
        "pad=pad_sequences(seq,maxlen=max([len(i) for i in sequences]),padding='post')\n",
        "pred=model.predict(pad)\n",
        "print(pred)\n",
        "if pred>=0.5:\n",
        "  print('AI Generated Text')\n",
        "else:\n",
        "  print('Human Generated Text')"
      ],
      "metadata": {
        "colab": {
          "base_uri": "https://localhost:8080/"
        },
        "id": "54DXZBouy9j9",
        "outputId": "ce3b81fd-0c2a-4f3b-bc6b-b460d3213d7a"
      },
      "execution_count": 50,
      "outputs": [
        {
          "output_type": "stream",
          "name": "stdout",
          "text": [
            "1/1 [==============================] - 1s 562ms/step\n",
            "[[0.02038683]]\n",
            "Human Generated Text\n"
          ]
        }
      ]
    },
    {
      "cell_type": "code",
      "source": [
        "text=\"Deep learning models have achieved human-level performance in tasks such as image recognition and language translation.\"\n",
        "text=text.lower()\n",
        "text=punc_rem(text)\n",
        "text=stemmer(text)\n",
        "seq=tokenizer.texts_to_sequences([text])\n",
        "pad=pad_sequences(seq,maxlen=max([len(i) for i in sequences]),padding='post')\n",
        "pred=model.predict(pad)\n",
        "print(pred)\n",
        "if pred>=0.5:\n",
        "  print('AI Generated Text')\n",
        "else:\n",
        "  print('Human Generated Text')"
      ],
      "metadata": {
        "colab": {
          "base_uri": "https://localhost:8080/"
        },
        "id": "EE-yYdxpzRa_",
        "outputId": "b4c84210-ab40-4c63-99ae-f2c1ef23f2b6"
      },
      "execution_count": 51,
      "outputs": [
        {
          "output_type": "stream",
          "name": "stdout",
          "text": [
            "1/1 [==============================] - 1s 577ms/step\n",
            "[[0.99741626]]\n",
            "AI Generated Text\n"
          ]
        }
      ]
    },
    {
      "cell_type": "code",
      "source": [
        "text=\"I am thinking of going to New York for studying masters is this the right descision?\"\n",
        "text=text.lower()\n",
        "text=punc_rem(text)\n",
        "text=stemmer(text)\n",
        "seq=tokenizer.texts_to_sequences([text])\n",
        "pad=pad_sequences(seq,maxlen=max([len(i) for i in sequences]),padding='post')\n",
        "pred=model.predict(pad)\n",
        "print(pred)\n",
        "if pred>=0.5:\n",
        "  print('AI Generated Text')\n",
        "else:\n",
        "  print('Human Generated Text')"
      ],
      "metadata": {
        "colab": {
          "base_uri": "https://localhost:8080/"
        },
        "id": "EZU-vyoc0XJw",
        "outputId": "52487efb-10ae-4cd2-8bdf-313ad7c14ac7"
      },
      "execution_count": 52,
      "outputs": [
        {
          "output_type": "stream",
          "name": "stdout",
          "text": [
            "1/1 [==============================] - 1s 586ms/step\n",
            "[[0.01168367]]\n",
            "Human Generated Text\n"
          ]
        }
      ]
    },
    {
      "cell_type": "code",
      "source": [
        "text=\"As technology continues to advance at an exponential pace, the integration of artificial intelligence into various aspects of our lives becomes increasingly pervasive, influencing everything from the way we communicate and work to how we interact with the world around us.\"\n",
        "text=text.lower()\n",
        "text=punc_rem(text)\n",
        "text=stemmer(text)\n",
        "seq=tokenizer.texts_to_sequences([text])\n",
        "pad=pad_sequences(seq,maxlen=max([len(i) for i in sequences]),padding='post')\n",
        "pred=model.predict(pad)\n",
        "print(pred)\n",
        "if pred>=0.5:\n",
        "  print('AI Generated Text')\n",
        "else:\n",
        "  print('Human Generated Text')"
      ],
      "metadata": {
        "colab": {
          "base_uri": "https://localhost:8080/"
        },
        "id": "QhgrZHRt2_ke",
        "outputId": "139d3beb-6c71-4a5f-a2a5-8d292e51a1bd"
      },
      "execution_count": 53,
      "outputs": [
        {
          "output_type": "stream",
          "name": "stdout",
          "text": [
            "1/1 [==============================] - 1s 767ms/step\n",
            "[[0.9897719]]\n",
            "AI Generated Text\n"
          ]
        }
      ]
    },
    {
      "cell_type": "code",
      "source": [
        "text=\"As the global community grapples with pressing challenges such as climate change, resource scarcity, and public health crises, AI offers unprecedented opportunities to leverage data-driven insights and innovative technologies to address these complex issues and drive positive societal change.\"\n",
        "text=text.lower()\n",
        "text=punc_rem(text)\n",
        "text=stemmer(text)\n",
        "seq=tokenizer.texts_to_sequences([text])\n",
        "pad=pad_sequences(seq,maxlen=max([len(i) for i in sequences]),padding='post')\n",
        "pred=model.predict(pad)\n",
        "print(pred)\n",
        "if pred>=0.5:\n",
        "  print('AI Generated Text')\n",
        "else:\n",
        "  print('Human Generated Text')"
      ],
      "metadata": {
        "colab": {
          "base_uri": "https://localhost:8080/"
        },
        "id": "niwK2a1A3bSd",
        "outputId": "1066aee3-4b2b-4fe5-cdb7-f1882f1d5769"
      },
      "execution_count": 54,
      "outputs": [
        {
          "output_type": "stream",
          "name": "stdout",
          "text": [
            "1/1 [==============================] - 0s 223ms/step\n",
            "[[0.9985767]]\n",
            "AI Generated Text\n"
          ]
        }
      ]
    },
    {
      "cell_type": "code",
      "source": [
        "text=\"From self-driving cars and virtual assistants to personalized recommendations and medical diagnostics, the potential applications of AI are vast and far-reaching, promising to transform industries, enhance productivity, and improve quality of life for people around the globe.\"\n",
        "text=text.lower()\n",
        "text=punc_rem(text)\n",
        "text=stemmer(text)\n",
        "seq=tokenizer.texts_to_sequences([text])\n",
        "pad=pad_sequences(seq,maxlen=max([len(i) for i in sequences]),padding='post')\n",
        "pred=model.predict(pad)\n",
        "print(pred)\n",
        "if pred>=0.5:\n",
        "  print('AI Generated Text')\n",
        "else:\n",
        "  print('Human Generated Text')"
      ],
      "metadata": {
        "colab": {
          "base_uri": "https://localhost:8080/"
        },
        "id": "epsF_w0R3i98",
        "outputId": "08d15d06-c903-4fde-f1b9-07173b379b69"
      },
      "execution_count": 55,
      "outputs": [
        {
          "output_type": "stream",
          "name": "stdout",
          "text": [
            "1/1 [==============================] - 0s 466ms/step\n",
            "[[0.9969254]]\n",
            "AI Generated Text\n"
          ]
        }
      ]
    },
    {
      "cell_type": "code",
      "source": [
        "text=\"As we navigate the complexities of a rapidly evolving technological landscape characterized by exponential growth in computational power, vast amounts of digital data, and the proliferation of AI-driven applications across diverse domains ranging from finance and healthcare to transportation and entertainment, it becomes increasingly evident that the future of humanity is deeply intertwined with the trajectory of artificial intelligence, necessitating a collaborative and multidisciplinary approach to address the myriad challenges and opportunities that lie ahead in this transformative journey toward an AI-enabled society.\"\n",
        "text=text.lower()\n",
        "text=punc_rem(text)\n",
        "text=stemmer(text)\n",
        "seq=tokenizer.texts_to_sequences([text])\n",
        "pad=pad_sequences(seq,maxlen=max([len(i) for i in sequences]),padding='post')\n",
        "pred=model.predict(pad)\n",
        "print(pred)\n",
        "if pred>=0.5:\n",
        "  print('AI Generated Text')\n",
        "else:\n",
        "  print('Human Generated Text')"
      ],
      "metadata": {
        "colab": {
          "base_uri": "https://localhost:8080/"
        },
        "id": "8SlHDJb93ixr",
        "outputId": "10a6d64b-59b8-449e-d28e-afa70bd1a726"
      },
      "execution_count": 59,
      "outputs": [
        {
          "output_type": "stream",
          "name": "stdout",
          "text": [
            "1/1 [==============================] - 0s 228ms/step\n",
            "[[0.9987736]]\n",
            "AI Generated Text\n"
          ]
        }
      ]
    },
    {
      "cell_type": "code",
      "source": [
        "text=\"This summer, I had the privilege of interning with Southwest Airlines as an audio and visual intern. I worked at Southwest’s headquarters in Dallas, Texas, and was part of the A/V Team at Southwest Airlines University.\"\n",
        "text=text.lower()\n",
        "text=punc_rem(text)\n",
        "text=stemmer(text)\n",
        "seq=tokenizer.texts_to_sequences([text])\n",
        "pad=pad_sequences(seq,maxlen=max([len(i) for i in sequences]),padding='post')\n",
        "pred=model.predict(pad)\n",
        "print(pred)\n",
        "if pred>=0.5:\n",
        "  print('AI Generated Text')\n",
        "else:\n",
        "  print('Human Generated Text')"
      ],
      "metadata": {
        "colab": {
          "base_uri": "https://localhost:8080/"
        },
        "id": "AEvB0bhm33-u",
        "outputId": "888bc709-1afe-4861-d4a0-626edf4db189"
      },
      "execution_count": 58,
      "outputs": [
        {
          "output_type": "stream",
          "name": "stdout",
          "text": [
            "1/1 [==============================] - 0s 247ms/step\n",
            "[[0.17208365]]\n",
            "Human Generated Text\n"
          ]
        }
      ]
    },
    {
      "cell_type": "code",
      "source": [],
      "metadata": {
        "id": "ntCwmG_xJ4Go"
      },
      "execution_count": null,
      "outputs": []
    }
  ]
}